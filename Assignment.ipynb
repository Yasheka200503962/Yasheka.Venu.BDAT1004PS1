{
 "cells": [
  {
   "cell_type": "raw",
   "id": "b425d93a",
   "metadata": {},
   "source": [
    "Question 1: C#\n",
    "What data type is each of the following?\n",
    "5\n",
    "5.0\n",
    "5 > 1\n",
    "'5'\n",
    "5 * 2\n",
    "'5' * 2\n",
    "'5' + '2'\n",
    "5 / 2\n",
    "5 % 2\n",
    "{5, 2, 1}\n",
    "5 == 3\n",
    "Pi (the number)"
   ]
  },
  {
   "cell_type": "code",
   "execution_count": 21,
   "id": "aadeb8c8",
   "metadata": {},
   "outputs": [
    {
     "name": "stdout",
     "output_type": "stream",
     "text": [
      "5 is of System.Int32 type\n",
      "5 is of System.Double type\n",
      "True is of System.Boolean type\n",
      "5 is of System.Char type\n",
      "10 is of System.Int32 type\n",
      "106 is of System.Int32 type\n",
      "103 is of System.Int32 type\n",
      "2 is of System.Int32 type\n",
      "1 is of System.Int32 type\n",
      "5,2,1 is of System.Int32[] type\n",
      "False is of System.Boolean type\n",
      "3.141592653589793 is of System.Double type\n"
     ]
    }
   ],
   "source": [
    "var a = 5;\n",
    "Console.WriteLine($\"{a} is of {a.GetType()} type\");\n",
    "var t=5.0;\n",
    "Console.WriteLine($\"{t} is of {t.GetType()} type\");\n",
    "var b =5>1;\n",
    "Console.WriteLine($\"{b} is of {b.GetType()} type\");\n",
    "var f='5';\n",
    "Console.WriteLine($\"{f} is of {f.GetType()} type\");\n",
    "var sa=5*2;\n",
    "Console.WriteLine($\"{sa} is of {sa.GetType()} type\");\n",
    "var g = '5' * 2;\n",
    "Console.WriteLine($\"{g} is of {g.GetType()} type\");\n",
    "var h = '5' + '2';\n",
    "Console.WriteLine($\"{h} is of {h.GetType()} type\");\n",
    "var i = 5 /2 ;\n",
    "Console.WriteLine($\"{i} is of {i.GetType()} type\");\n",
    "var j = 5%2;\n",
    "Console.WriteLine($\"{j} is of {j.GetType()} type\");\n",
    "int[] l = {5,2,1};\n",
    "Console.WriteLine($\"5,2,1 is of {l.GetType()} type\");\n",
    "var y = 5==3;\n",
    "Console.WriteLine($\"{y} is of {y.GetType()} type\");\n",
    "var z = 3.141592653589793238;\n",
    "Console.WriteLine($\"{z} is of {z.GetType()} type\");\n",
    "\n"
   ]
  },
  {
   "cell_type": "raw",
   "id": "d81b4b33",
   "metadata": {},
   "source": [
    "Question 2: Write (and evaluate) C# expressions that answer these questions:\n",
    "a. How many letters are there in 'Supercalifragilisticexpialidocious'?\n",
    "b. Does 'Supercalifragilisticexpialidocious' contain 'ice' as a substring?\n",
    "c. Which of the following words is the longest:\n",
    "    Supercalifragilisticexpialidocious, Honorificabilitudinitatibus, or\n",
    "    Bababadalgharaghtakamminarronnkonn?\n",
    "d. Which composer comes first in the dictionary: 'Berlioz', 'Borodin', 'Brian',\n",
    "    'Bartok', 'Bellini', 'Buxtehude', 'Bernstein'. Which one comes last?\n"
   ]
  },
  {
   "cell_type": "code",
   "execution_count": 6,
   "id": "d576c825",
   "metadata": {},
   "outputs": [
    {
     "name": "stdout",
     "output_type": "stream",
     "text": [
      "a) Supercalifragilisticexpialidocious has 34 number \n",
      "b) Yes Supercalifragilisticexpialidocious contains ice\n",
      "c) Supercalifragilisticexpialidocious is the longest\n",
      "c) Bababadalgharaghtakamminarronnkonn is the longest\n",
      "d) Berlioz comes first and Bernstein comes last\n"
     ]
    }
   ],
   "source": [
    "string s = \"Supercalifragilisticexpialidocious\";\n",
    "Console.WriteLine($\"a) {s} has {s.Length} number \");\n",
    "var f = s.Contains(\"ice\");\n",
    "if(f==true)\n",
    "    Console.WriteLine($\"b) Yes Supercalifragilisticexpialidocious contains ice\");\n",
    "else\n",
    "    Console.WriteLine($\"b) No Supercalifragilisticexpialidocious doesn't contain ice\");\n",
    "string h = \"Honorificabilitudinitatibus\"; string g = \"Bababadalgharaghtakamminarronnkonn\";\n",
    "if(s.Length>=h.Length && s.Length>=g.Length)\n",
    "    Console.WriteLine($\"c) {s} is the longest\");\n",
    "if(h.Length>=s.Length && h.Length>=g.Length)\n",
    "    Console.WriteLine($\"c) {h} is the longest\");\n",
    "if(g.Length>=s.Length && g.Length>=h.Length)\n",
    "    Console.WriteLine($\"c) {g} is the longest\");\n",
    "var v = new Dictionary<int,string>();\n",
    "v.Add(1,\"Berlioz\");\n",
    "v.Add(2,\"Borodin\");\n",
    "v.Add(3,\"Brian\");\n",
    "v.Add(4,\"Bartok\");\n",
    "v.Add(5,\"Bellini\");\n",
    "v.Add(6,\"Buxtehude\");\n",
    "v.Add(7,\"Bernstein\");\n",
    "Console.WriteLine($\"d) {v[1]} comes first and {v[7]} comes last\");"
   ]
  },
  {
   "cell_type": "raw",
   "id": "28fba062",
   "metadata": {},
   "source": [
    "Question 3: C#\n",
    "Implement function triangleArea(a,b,c) that takes as input the lengths of the 3\n",
    "sides of a triangle and returns the area of the triangle. By Heron's formula, the area\n",
    "of a triangle with side lengths a, b, and c is\n",
    "s(s - a)(s -b)(s -c)\n",
    ", where\n",
    "s = (a+b+c)/2. "
   ]
  },
  {
   "cell_type": "code",
   "execution_count": 15,
   "id": "a22f5c8e",
   "metadata": {},
   "outputs": [
    {
     "name": "stdout",
     "output_type": "stream",
     "text": [
      "The area of the triangle is 1.7320508075688772\r\n"
     ]
    }
   ],
   "source": [
    "public static double triangleArea(double a, double b, double c)\n",
    "{\n",
    "double s=0.00;\n",
    "s=(a+b+c)/2;\n",
    "double area=0.00;\n",
    "area =Math.Sqrt(s*(s-a)*(s-b)*(s-c));\n",
    "return area;\n",
    "}\n",
    "\n",
    "Console.WriteLine($\"The area of the triangle is {triangleArea(2.0,2.0,2.0)}\");\n"
   ]
  },
  {
   "cell_type": "raw",
   "id": "73ca881c",
   "metadata": {},
   "source": [
    "Question 4: \n",
    "Write a program in C# Sharp to separate odd and even integers in separate arrays.\n",
    "Go to the editor\n",
    "Test Data :\n",
    "Input the number of elements to be stored in the array :5\n",
    "Input 5 elements in the array :\n",
    "element - 0 : 25\n",
    "element - 1 : 47\n",
    "element - 2 : 42\n",
    "element - 3 : 56\n",
    "element - 4 : 32\n",
    "Expected Output:\n",
    "The Even elements are:\n",
    "42 56 32\n",
    "The Odd elements are :\n",
    "25 47"
   ]
  },
  {
   "cell_type": "code",
   "execution_count": 42,
   "id": "458ce9fe",
   "metadata": {},
   "outputs": [
    {
     "name": "stdout",
     "output_type": "stream",
     "text": [
      "The Even Numbers are: \n",
      "42  56  32  \n",
      "The Odd Numbers are: \n",
      "25  47  "
     ]
    }
   ],
   "source": [
    "\n",
    "    int[] x = {25,47,42,56,32};\n",
    "    int j=0;int k=0;\n",
    "    Console.WriteLine(\"The Even Numbers are: \");\n",
    "    for(int i=0;i<5;i++)\n",
    "        if(x[i]%2==0)\n",
    "           Console.Write($\"{x[i]}  \");\n",
    "    Console.WriteLine();\n",
    "    Console.WriteLine(\"The Odd Numbers are: \");\n",
    "    for(int i =0;i<5;i++)\n",
    "        if(x[i]%2!=0)\n",
    "            Console.Write($\"{x[i]}  \");\n",
    "    "
   ]
  },
  {
   "cell_type": "raw",
   "id": "f1c1ab93",
   "metadata": {},
   "source": [
    "Question 5: C#\n",
    "a. Write a function inside(x,y,x1,y1,x2,y2) that returns True or False\n",
    "depending on whether the point (x,y) lies in the rectangle with lower left\n",
    "corner (x1,y1) and upper right corner (x2,y2).\n",
    "-> inside(1,1,0,0,2,3)\n",
    "True\n",
    "-> inside(-1,-1,0,0,2,3)\n",
    "False\n",
    "b. Use function inside() from part a. to write an expression that tests whether\n",
    "the point (1,1) lies in both of the following rectangles: one with lower left\n",
    "corner (0.3, 0.5) and upper right corner (1.1, 0.7) and the other with lower\n",
    "left corner (0.5, 0.2) and upper right corner (1.1, 2). "
   ]
  },
  {
   "cell_type": "code",
   "execution_count": 47,
   "id": "b4df7d4a",
   "metadata": {},
   "outputs": [
    {
     "name": "stdout",
     "output_type": "stream",
     "text": [
      "True\n",
      "False\n",
      "False\n",
      "True\n"
     ]
    }
   ],
   "source": [
    "public static Boolean inside(double x,double y,double x1,double y1,double x2,double y2)\n",
    "{\n",
    "    if((x>=x1 && y>=y1) && (x<=x2 && y<=y2))\n",
    "    return true;\n",
    "    else\n",
    "    return false;\n",
    "}\n",
    "\n",
    "Console.WriteLine(inside(1,1,0,0,2,3));\n",
    "Console.WriteLine(inside(-1,-1,0,0,2,3));\n",
    "Console.WriteLine(inside(1,1,0.3,0.5,1.1,0.7));\n",
    "Console.WriteLine(inside(1,1,0.5,0.2,1.1,2));"
   ]
  },
  {
   "cell_type": "raw",
   "id": "5787d9c2",
   "metadata": {},
   "source": [
    "Question 6 Python:  \n",
    "You can turn a word into pig-Latin using the following two rules (simplified):\n",
    "• If the word starts with a consonant, move that letter to the end and append\n",
    "'ay'. For example, 'happy' becomes 'appyhay' and 'pencil' becomes 'encilpay'.\n",
    "• If the word starts with a vowel, simply append 'way' to the end of the word.\n",
    "For example, 'enter' becomes 'enterway' and 'other' becomes 'otherway' . For\n",
    "our purposes, there are 5 vowels: a, e, i, o, u (so we count y as a consonant).\n",
    "Write a function pig() that takes a word (i.e., a string) as input and returns its pigLatin form. Your function should still work if the input word contains upper case\n",
    "characters. Your output should always be lower case however.\n",
    ">>> pig('happy')\n",
    "'appyhay'\n",
    ">>> pig('Enter')\n",
    "'enterway' "
   ]
  },
  {
   "cell_type": "code",
   "execution_count": 30,
   "id": "5f0420ff",
   "metadata": {},
   "outputs": [
    {
     "name": "stdout",
     "output_type": "stream",
     "text": [
      "enterway\n",
      "appyhay\n"
     ]
    }
   ],
   "source": [
    "def pig(pig):\n",
    "    word = pig.lower();\n",
    "    pigLatin = \"\";\n",
    "    if((word[0] == 'a') or (word[0]=='e') or (word[0]=='i')  or (word[0]=='o') or (word[0]=='u')):\n",
    "        pigLatin= word+\"way\";\n",
    "    else:\n",
    "        pigLatin=word[1:]+word[0]+\"ay\";\n",
    "    return pigLatin.lower();\n",
    "\n",
    "print(pig('Enter'))\n",
    "print(pig('happy'))\n"
   ]
  },
  {
   "cell_type": "raw",
   "id": "52e0cc82",
   "metadata": {},
   "source": [
    "Question 7 Python: \n",
    "File bloodtype1.txt records blood-types of patients (A, B, AB, O or OO) at a clinic.\n",
    "Write a function bldcount() that reads the file with name name and reports (i.e.,\n",
    "prints) how many patients there are in each bloodtype.\n",
    ">>> bldcount('bloodtype.txt')\n",
    "There are 10 patients of blood type A.\n",
    "There is one patient of blood type B.\n",
    "There are 10 patients of blood type AB.\n",
    "There are 12 patients of blood type O.\n",
    "There are no patients of blood type OO."
   ]
  },
  {
   "cell_type": "code",
   "execution_count": 51,
   "id": "9ad4736f",
   "metadata": {},
   "outputs": [
    {
     "name": "stdout",
     "output_type": "stream",
     "text": [
      "There are 15 patients of blood type A.\n",
      "There are 13 patients of blood type AB.\n",
      "There is one patient of blood type B.\n",
      "There are 15 patients of blood type O.\n"
     ]
    }
   ],
   "source": [
    "def bldcount(filename):\n",
    "    file = open(filename,\"r\");\n",
    "    result={};\n",
    "    bt=file.read().split(\" \");\n",
    "    bt.sort();\n",
    "    for b in range(len(bt)):\n",
    "        if(bt[b]!=bt[b-1]):\n",
    "            result[bt[b]]=1;\n",
    "        else:\n",
    "            result[bt[b]]=result[bt[b]]+1; \n",
    "    for v in result:\n",
    "        if(v!=''):\n",
    "            if(result[v]>1):\n",
    "                print(\"There are \"+str(result[v])+\" patients of blood type \"+v+\".\");\n",
    "            else:\n",
    "                print(\"There is one patient of blood type \"+v+\".\");\n",
    "            \n",
    "bldcount(\"bloodtype1.txt\");"
   ]
  },
  {
   "cell_type": "raw",
   "id": "dea4f182",
   "metadata": {},
   "source": [
    "Question 8 Python: \n",
    "Write a function curconv() that takes as input:\n",
    "1. a currency represented using a string (e.g., 'JPY' for the Japanese Yen or\n",
    "'EUR' for the Euro)\n",
    "2. an amount\n",
    "and then converts and returns the amount in US dollars.\n",
    ">>> curconv('EUR', 100)\n",
    "122.96544\n",
    ">>> curconv('JPY', 100)\n",
    "1.241401\n",
    "The currency rates you will need are stored in file currencies.txt:\n",
    "AUD 1.0345157 Australian Dollar\n",
    "CHF 1.0237414 Swiss Franc\n",
    "CNY 0.1550176 Chinese Yuan\n",
    "DKK 0.1651442 Danish Krone\n",
    "EUR 1.2296544 Euro\n",
    "GBP 1.5550989 British Pound\n",
    "HKD 0.1270207 Hong Kong Dollar\n",
    "INR 0.0177643 Indian Rupee\n",
    "JPY 0.01241401 Japanese Yen\n",
    "MXN 0.0751848 Mexican Peso\n",
    "MYR 0.3145411 Malaysian Ringgit\n",
    "NOK 0.1677063 Norwegian Krone\n",
    "NZD 0.8003591 New Zealand Dollar\n",
    "PHP 0.0233234 Philippine Peso\n",
    "SEK 0.148269 Swedish Krona\n",
    "SGD 0.788871 Singapore Dollar\n",
    "THB 0.0313789 Thai Baht"
   ]
  },
  {
   "cell_type": "code",
   "execution_count": 69,
   "id": "202623df",
   "metadata": {},
   "outputs": [
    {
     "name": "stdout",
     "output_type": "stream",
     "text": [
      "122.96544\n",
      "1.241401\n"
     ]
    }
   ],
   "source": [
    "def curconv(cur, value):\n",
    "    file = open(\"currencies.txt\",\"r\");\n",
    "    result={};\n",
    "    fileread=file.read().split(\"\\n\");\n",
    "    for t in fileread:\n",
    "        f=t.split(\"\\t\");\n",
    "#       result[f[0]] = f[1];\n",
    "        if(f[0]==cur):\n",
    "            print(value*float(f[1]));\n",
    "\n",
    "curconv('EUR',100);\n",
    "curconv('JPY', 100);"
   ]
  },
  {
   "cell_type": "raw",
   "id": "f57e050c",
   "metadata": {},
   "source": [
    "Question 9 Python: \n",
    "Each of the following will cause an exception (an error). Identify what type of\n",
    "exception each will cause.\n",
    "Trying to add incompatible variables, as in\n",
    "adding 6 + ‘a’\n",
    "Referring to the 12th item of a list that has only 10\n",
    "items\n",
    "Using a value that is out of range for a function’s\n",
    "input, such as calling math.sqrt(-1.0)\n",
    "Using an undeclared variable, such as print(x)\n",
    "when x has not been defined\n",
    "Trying to open a file that does not exist, such as\n",
    "mistyping the file name or looking in the wrong\n",
    "directory."
   ]
  },
  {
   "cell_type": "code",
   "execution_count": 87,
   "id": "260525b4",
   "metadata": {},
   "outputs": [
    {
     "name": "stdout",
     "output_type": "stream",
     "text": [
      "There is a Type Error in your code\n",
      "Comment each statement in the try block to see the type of error that the statements throw\n"
     ]
    }
   ],
   "source": [
    "import math\n",
    "try:\n",
    "    v = 6 + 'a';\n",
    "    l = [1,2,3,4,5,6,7,8,9,0];\n",
    "    k = l[12];\n",
    "    f = math.sqrt(-1.0);\n",
    "    print(m);\n",
    "    file = open(\"file.txt\",\"r\");\n",
    "except TypeError:\n",
    "    print(\"There is a Type Error in your code\");       \n",
    "except IndexError:\n",
    "    print(\"There is a Type Error in your code\");\n",
    "except ValueError:\n",
    "    print(\"There is a ValueError in your code\");\n",
    "except NameError:\n",
    "    print(\"There is a NameError in your code\");\n",
    "except FileNotFoundError:\n",
    "    print(\"There is a FileNotFoundError in your code\");\n",
    "finally:\n",
    "    print(\"Comment each statement in the try block to see the type of error that the statements throw\");"
   ]
  },
  {
   "cell_type": "raw",
   "id": "d501bc69",
   "metadata": {},
   "source": [
    "Question 10 Python:\n",
    "Encryption is the process of hiding the meaning of a text by substituting letters in the\n",
    "message with other letters, according to some system. If the process is successful, no\n",
    "one but the intended recipient can understand the encrypted message. Cryptanalysis\n",
    "refers to attempts to undo the encryption, even if some details of the encryption are\n",
    "unknown (for example, if an encrypted message has been intercepted). The first step\n",
    "of cryptanalysis is often to build up a table of letter frequencies in the encrypted text.\n",
    "Assume that the string letters is already defined as\n",
    "'abcdefghijklmnopqrstuvwxyz'. Write a function called frequencies()\n",
    "that takes a string as its only parameter, and returns a list of integers, showing the\n",
    "number of times each character appears in the text. Your function may ignore any\n",
    "characters that are not in letters.\n",
    ">>> frequencies('The quick red fox got bored and went home.')\n",
    "[1, 1, 1, 3, 5, 1, 1, 2, 1, 0, 1, 0, 1, 2, 4, 0, 1, 2, 0, 2,\n",
    "1, 0, 1, 1, 0, 0]\n",
    ">>> frequencies('apple')"
   ]
  },
  {
   "cell_type": "code",
   "execution_count": 98,
   "id": "ea1a65ba",
   "metadata": {},
   "outputs": [
    {
     "name": "stdout",
     "output_type": "stream",
     "text": [
      "[1, 1, 1, 3, 5, 1, 1, 2, 1, 0, 1, 0, 1, 2, 4, 0, 1, 2, 0, 2, 1, 0, 1, 1, 0, 0]\n"
     ]
    }
   ],
   "source": [
    "def frequencies(word):\n",
    "    alphabets = \"abcdefghijklmnopqrstuvwxyz\";\n",
    "    counts = [0 for i in range(26)];\n",
    "    i=0;\n",
    "    for ch in alphabets:\n",
    "        counts[i]=word.count(ch);\n",
    "        i=i+1;\n",
    "    print(counts);\n",
    "frequencies(\"The quick red fox got bored and went home.\");"
   ]
  }
 ],
 "metadata": {
  "kernelspec": {
   "display_name": "Python 3 (ipykernel)",
   "language": "python",
   "name": "python3"
  },
  "language_info": {
   "codemirror_mode": {
    "name": "ipython",
    "version": 3
   },
   "file_extension": ".py",
   "mimetype": "text/x-python",
   "name": "python",
   "nbconvert_exporter": "python",
   "pygments_lexer": "ipython3",
   "version": "3.9.7"
  },
  "widgets": {
   "application/vnd.jupyter.widget-state+json": {
    "state": {},
    "version_major": 2,
    "version_minor": 0
   }
  }
 },
 "nbformat": 4,
 "nbformat_minor": 5
}
